{
 "cells": [
  {
   "cell_type": "code",
   "execution_count": 28,
   "metadata": {},
   "outputs": [],
   "source": [
    "import pandas as pd\n",
    "import numpy as np\n",
    "import warnings\n",
    "warnings.filterwarnings('ignore')"
   ]
  },
  {
   "cell_type": "markdown",
   "metadata": {},
   "source": [
    "Загрузка данных и их обработка"
   ]
  },
  {
   "cell_type": "code",
   "execution_count": 29,
   "metadata": {},
   "outputs": [],
   "source": [
    "dt = pd.read_csv('SBER_190101_200101.txt', sep = ',')"
   ]
  },
  {
   "cell_type": "code",
   "execution_count": 30,
   "metadata": {},
   "outputs": [
    {
     "data": {
      "text/html": [
       "<div>\n",
       "<style scoped>\n",
       "    .dataframe tbody tr th:only-of-type {\n",
       "        vertical-align: middle;\n",
       "    }\n",
       "\n",
       "    .dataframe tbody tr th {\n",
       "        vertical-align: top;\n",
       "    }\n",
       "\n",
       "    .dataframe thead th {\n",
       "        text-align: right;\n",
       "    }\n",
       "</style>\n",
       "<table border=\"1\" class=\"dataframe\">\n",
       "  <thead>\n",
       "    <tr style=\"text-align: right;\">\n",
       "      <th></th>\n",
       "      <th>&lt;DATE&gt;</th>\n",
       "      <th>&lt;OPEN&gt;</th>\n",
       "      <th>&lt;HIGH&gt;</th>\n",
       "      <th>&lt;LOW&gt;</th>\n",
       "      <th>&lt;CLOSE&gt;</th>\n",
       "    </tr>\n",
       "  </thead>\n",
       "  <tbody>\n",
       "    <tr>\n",
       "      <th>0</th>\n",
       "      <td>20190103</td>\n",
       "      <td>186.37</td>\n",
       "      <td>191.50</td>\n",
       "      <td>186.00</td>\n",
       "      <td>186.99</td>\n",
       "    </tr>\n",
       "    <tr>\n",
       "      <th>1</th>\n",
       "      <td>20190104</td>\n",
       "      <td>187.99</td>\n",
       "      <td>190.99</td>\n",
       "      <td>187.77</td>\n",
       "      <td>190.99</td>\n",
       "    </tr>\n",
       "    <tr>\n",
       "      <th>2</th>\n",
       "      <td>20190108</td>\n",
       "      <td>191.66</td>\n",
       "      <td>193.18</td>\n",
       "      <td>190.37</td>\n",
       "      <td>191.24</td>\n",
       "    </tr>\n",
       "    <tr>\n",
       "      <th>3</th>\n",
       "      <td>20190109</td>\n",
       "      <td>192.71</td>\n",
       "      <td>197.00</td>\n",
       "      <td>192.10</td>\n",
       "      <td>197.00</td>\n",
       "    </tr>\n",
       "    <tr>\n",
       "      <th>4</th>\n",
       "      <td>20190110</td>\n",
       "      <td>196.30</td>\n",
       "      <td>197.64</td>\n",
       "      <td>195.03</td>\n",
       "      <td>196.75</td>\n",
       "    </tr>\n",
       "  </tbody>\n",
       "</table>\n",
       "</div>"
      ],
      "text/plain": [
       "     <DATE>  <OPEN>  <HIGH>   <LOW>  <CLOSE>\n",
       "0  20190103  186.37  191.50  186.00   186.99\n",
       "1  20190104  187.99  190.99  187.77   190.99\n",
       "2  20190108  191.66  193.18  190.37   191.24\n",
       "3  20190109  192.71  197.00  192.10   197.00\n",
       "4  20190110  196.30  197.64  195.03   196.75"
      ]
     },
     "execution_count": 30,
     "metadata": {},
     "output_type": "execute_result"
    }
   ],
   "source": [
    "data = dt.drop(['<TICKER>', '<PER>', '<TIME>', '<VOL>'], axis = 1)\n",
    "data.head(5)"
   ]
  },
  {
   "cell_type": "code",
   "execution_count": 31,
   "metadata": {},
   "outputs": [
    {
     "name": "stdout",
     "output_type": "stream",
     "text": [
      "В выборке представлена информация об акциях Сбербанка за 252 торговых дня\n"
     ]
    }
   ],
   "source": [
    "print(f'В выборке представлена информация об акциях Сбербанка за {data.shape[0]} торговых дня')"
   ]
  },
  {
   "cell_type": "markdown",
   "metadata": {},
   "source": [
    "Вычисление спреда по Роллу"
   ]
  },
  {
   "cell_type": "code",
   "execution_count": 32,
   "metadata": {},
   "outputs": [],
   "source": [
    "data['delta Pt'] = data['<CLOSE>'].diff()\n",
    "data['delta Pt-1'] = data['<CLOSE>'].diff().shift(periods = 1)"
   ]
  },
  {
   "cell_type": "code",
   "execution_count": 33,
   "metadata": {},
   "outputs": [],
   "source": [
    "Rspread = 2*(-data.cov().loc['delta Pt','delta Pt-1'])**(0.5)"
   ]
  },
  {
   "cell_type": "code",
   "execution_count": 34,
   "metadata": {},
   "outputs": [
    {
     "data": {
      "text/plain": [
       "1.6377752212993182"
      ]
     },
     "execution_count": 34,
     "metadata": {},
     "output_type": "execute_result"
    }
   ],
   "source": [
    "Rspread"
   ]
  },
  {
   "cell_type": "markdown",
   "metadata": {},
   "source": [
    "Расчеты по Глостену-Милгому"
   ]
  },
  {
   "cell_type": "code",
   "execution_count": 35,
   "metadata": {},
   "outputs": [],
   "source": [
    "theta = 0.5\n",
    "mu = 0.25\n",
    "gamma = 0.5"
   ]
  },
  {
   "cell_type": "code",
   "execution_count": 36,
   "metadata": {},
   "outputs": [],
   "source": [
    "vH = data['<HIGH>'].mean()\n",
    "vL = data['<LOW>'].mean()"
   ]
  },
  {
   "cell_type": "code",
   "execution_count": 37,
   "metadata": {},
   "outputs": [],
   "source": [
    "Prior_Exp = theta*vH + (1-theta)*vL"
   ]
  },
  {
   "cell_type": "code",
   "execution_count": 38,
   "metadata": {},
   "outputs": [],
   "source": [
    "P_buy_vH = mu*1 + (1-mu)*gamma\n",
    "P_buy_vL = mu*0 + (1-mu)*gamma"
   ]
  },
  {
   "cell_type": "code",
   "execution_count": 39,
   "metadata": {},
   "outputs": [],
   "source": [
    "P_buy = P_buy_vH*theta + P_buy_vL*(1-theta)"
   ]
  },
  {
   "cell_type": "code",
   "execution_count": 40,
   "metadata": {},
   "outputs": [],
   "source": [
    "P_vH_buy = P_buy_vH*theta/P_buy"
   ]
  },
  {
   "cell_type": "code",
   "execution_count": 41,
   "metadata": {},
   "outputs": [
    {
     "data": {
      "text/plain": [
       "227.5864136904761"
      ]
     },
     "execution_count": 41,
     "metadata": {},
     "output_type": "execute_result"
    }
   ],
   "source": [
    "Exp_buy = P_vH_buy*vH + (1-P_vH_buy)*vL\n",
    "Exp_buy"
   ]
  },
  {
   "cell_type": "code",
   "execution_count": 42,
   "metadata": {},
   "outputs": [],
   "source": [
    "P_vH_sell = (1-P_vH_buy)*theta/(1-P_buy)"
   ]
  },
  {
   "cell_type": "code",
   "execution_count": 43,
   "metadata": {},
   "outputs": [
    {
     "data": {
      "text/plain": [
       "226.57489583333324"
      ]
     },
     "execution_count": 43,
     "metadata": {},
     "output_type": "execute_result"
    }
   ],
   "source": [
    "Exp_sell = P_vH_sell*vH + (1-P_vH_sell)*vL\n",
    "Exp_sell"
   ]
  },
  {
   "cell_type": "markdown",
   "metadata": {},
   "source": [
    "Bid-ask спред"
   ]
  },
  {
   "cell_type": "code",
   "execution_count": 44,
   "metadata": {},
   "outputs": [
    {
     "data": {
      "text/plain": [
       "1.0115178571428487"
      ]
     },
     "execution_count": 44,
     "metadata": {},
     "output_type": "execute_result"
    }
   ],
   "source": [
    "S = Exp_buy - Exp_sell\n",
    "S"
   ]
  },
  {
   "cell_type": "code",
   "execution_count": 45,
   "metadata": {},
   "outputs": [],
   "source": [
    "#все предыдущие вычисления в виде функции\n",
    "def GlMSpread(data, theta = 0.5, mu = 0.25, gamma = 0.5):\n",
    "    \n",
    "    vH = data['<HIGH>'].mean()\n",
    "    vL = data['<LOW>'].mean()\n",
    "    \n",
    "    Prior_Exp = theta*vH + (1-theta)*vL\n",
    "    P_buy_vH = mu*1 + (1-mu)*gamma\n",
    "    P_buy_vL = mu*0 + (1-mu)*gamma\n",
    "    P_buy = P_buy_vH*theta + P_buy_vL*(1-theta)\n",
    "    \n",
    "    P_vH_buy = P_buy_vH*theta/P_buy\n",
    "    P_vH_sell = (1-P_vH_buy)*theta/(1-P_buy)\n",
    "    \n",
    "    Exp_buy = P_vH_buy*vH + (1-P_vH_buy)*vL\n",
    "    Exp_sell = P_vH_sell*vH + (1-P_vH_sell)*vL\n",
    "    \n",
    "    S = Exp_buy - Exp_sell\n",
    "    \n",
    "    return S"
   ]
  },
  {
   "cell_type": "code",
   "execution_count": 46,
   "metadata": {},
   "outputs": [],
   "source": [
    "d = {}"
   ]
  },
  {
   "cell_type": "code",
   "execution_count": 47,
   "metadata": {},
   "outputs": [],
   "source": [
    "for mu in np.arange(0.2, 0.55, 0.05):\n",
    "    d[round(mu, 2)]= GlMSpread(data, mu = mu)"
   ]
  },
  {
   "cell_type": "code",
   "execution_count": 48,
   "metadata": {},
   "outputs": [
    {
     "data": {
      "text/plain": [
       "{0.2: 0.8092142857142903,\n",
       " 0.25: 1.0115178571428487,\n",
       " 0.3: 1.213821428571407,\n",
       " 0.35: 1.4161250000000223,\n",
       " 0.4: 1.6184285714285522,\n",
       " 0.45: 1.820732142857139,\n",
       " 0.5: 2.0230357142856974}"
      ]
     },
     "execution_count": 48,
     "metadata": {},
     "output_type": "execute_result"
    }
   ],
   "source": [
    "d"
   ]
  },
  {
   "cell_type": "code",
   "execution_count": 49,
   "metadata": {},
   "outputs": [
    {
     "data": {
      "image/png": "[encoded data removed]",
      "text/plain": [
       "<Figure size 432x288 with 1 Axes>"
      ]
     },
     "metadata": {
      "needs_background": "light"
     },
     "output_type": "display_data"
    }
   ],
   "source": [
    "import matplotlib.pylab as plt\n",
    "\n",
    "lists = sorted(d.items()) \n",
    "x, y = zip(*lists)\n",
    "\n",
    "plt.plot(x, y)\n",
    "plt.grid(color='grey', linestyle='-', linewidth=1, alpha = 0.5)\n",
    "plt.title('Зависимость спреда от доли инсайдеров на рынке')\n",
    "plt.xlabel('Доля трейдеров')\n",
    "plt.ylabel('Bid-ask спред')\n",
    "plt.show()"
   ]
  },
  {
   "cell_type": "markdown",
   "metadata": {},
   "source": [
    "Расчеты по модели Кейла"
   ]
  },
  {
   "cell_type": "code",
   "execution_count": 50,
   "metadata": {},
   "outputs": [
    {
     "data": {
      "text/html": [
       "<div>\n",
       "<style scoped>\n",
       "    .dataframe tbody tr th:only-of-type {\n",
       "        vertical-align: middle;\n",
       "    }\n",
       "\n",
       "    .dataframe tbody tr th {\n",
       "        vertical-align: top;\n",
       "    }\n",
       "\n",
       "    .dataframe thead th {\n",
       "        text-align: right;\n",
       "    }\n",
       "</style>\n",
       "<table border=\"1\" class=\"dataframe\">\n",
       "  <thead>\n",
       "    <tr style=\"text-align: right;\">\n",
       "      <th></th>\n",
       "      <th>&lt;DATE&gt;</th>\n",
       "      <th>&lt;OPEN&gt;</th>\n",
       "      <th>&lt;HIGH&gt;</th>\n",
       "      <th>&lt;LOW&gt;</th>\n",
       "      <th>&lt;CLOSE&gt;</th>\n",
       "      <th>&lt;VOL&gt;</th>\n",
       "    </tr>\n",
       "  </thead>\n",
       "  <tbody>\n",
       "    <tr>\n",
       "      <th>0</th>\n",
       "      <td>20190103</td>\n",
       "      <td>186.37</td>\n",
       "      <td>191.50</td>\n",
       "      <td>186.00</td>\n",
       "      <td>186.99</td>\n",
       "      <td>40105780</td>\n",
       "    </tr>\n",
       "    <tr>\n",
       "      <th>1</th>\n",
       "      <td>20190104</td>\n",
       "      <td>187.99</td>\n",
       "      <td>190.99</td>\n",
       "      <td>187.77</td>\n",
       "      <td>190.99</td>\n",
       "      <td>32537090</td>\n",
       "    </tr>\n",
       "    <tr>\n",
       "      <th>2</th>\n",
       "      <td>20190108</td>\n",
       "      <td>191.66</td>\n",
       "      <td>193.18</td>\n",
       "      <td>190.37</td>\n",
       "      <td>191.24</td>\n",
       "      <td>38581950</td>\n",
       "    </tr>\n",
       "    <tr>\n",
       "      <th>3</th>\n",
       "      <td>20190109</td>\n",
       "      <td>192.71</td>\n",
       "      <td>197.00</td>\n",
       "      <td>192.10</td>\n",
       "      <td>197.00</td>\n",
       "      <td>70633230</td>\n",
       "    </tr>\n",
       "    <tr>\n",
       "      <th>4</th>\n",
       "      <td>20190110</td>\n",
       "      <td>196.30</td>\n",
       "      <td>197.64</td>\n",
       "      <td>195.03</td>\n",
       "      <td>196.75</td>\n",
       "      <td>56211650</td>\n",
       "    </tr>\n",
       "  </tbody>\n",
       "</table>\n",
       "</div>"
      ],
      "text/plain": [
       "     <DATE>  <OPEN>  <HIGH>   <LOW>  <CLOSE>     <VOL>\n",
       "0  20190103  186.37  191.50  186.00   186.99  40105780\n",
       "1  20190104  187.99  190.99  187.77   190.99  32537090\n",
       "2  20190108  191.66  193.18  190.37   191.24  38581950\n",
       "3  20190109  192.71  197.00  192.10   197.00  70633230\n",
       "4  20190110  196.30  197.64  195.03   196.75  56211650"
      ]
     },
     "execution_count": 50,
     "metadata": {},
     "output_type": "execute_result"
    }
   ],
   "source": [
    "dt = pd.read_csv('SBER_190101_200101.txt', sep = ',')\n",
    "data = dt.drop(['<TICKER>', '<PER>', '<TIME>'], axis = 1)\n",
    "data.head(5)"
   ]
  },
  {
   "cell_type": "code",
   "execution_count": 51,
   "metadata": {},
   "outputs": [
    {
     "data": {
      "text/html": [
       "<div>\n",
       "<style scoped>\n",
       "    .dataframe tbody tr th:only-of-type {\n",
       "        vertical-align: middle;\n",
       "    }\n",
       "\n",
       "    .dataframe tbody tr th {\n",
       "        vertical-align: top;\n",
       "    }\n",
       "\n",
       "    .dataframe thead th {\n",
       "        text-align: right;\n",
       "    }\n",
       "</style>\n",
       "<table border=\"1\" class=\"dataframe\">\n",
       "  <thead>\n",
       "    <tr style=\"text-align: right;\">\n",
       "      <th></th>\n",
       "      <th>&lt;DATE&gt;</th>\n",
       "      <th>&lt;OPEN&gt;</th>\n",
       "      <th>&lt;HIGH&gt;</th>\n",
       "      <th>&lt;LOW&gt;</th>\n",
       "      <th>&lt;CLOSE&gt;</th>\n",
       "      <th>&lt;VOL&gt;</th>\n",
       "      <th>delta Pt</th>\n",
       "      <th>lambda</th>\n",
       "    </tr>\n",
       "  </thead>\n",
       "  <tbody>\n",
       "    <tr>\n",
       "      <th>0</th>\n",
       "      <td>2019-01-03</td>\n",
       "      <td>186.37</td>\n",
       "      <td>191.50</td>\n",
       "      <td>186.00</td>\n",
       "      <td>186.99</td>\n",
       "      <td>40105780</td>\n",
       "      <td>NaN</td>\n",
       "      <td>NaN</td>\n",
       "    </tr>\n",
       "    <tr>\n",
       "      <th>1</th>\n",
       "      <td>2019-01-04</td>\n",
       "      <td>187.99</td>\n",
       "      <td>190.99</td>\n",
       "      <td>187.77</td>\n",
       "      <td>190.99</td>\n",
       "      <td>32537090</td>\n",
       "      <td>4.00</td>\n",
       "      <td>1.229366e-07</td>\n",
       "    </tr>\n",
       "    <tr>\n",
       "      <th>2</th>\n",
       "      <td>2019-01-08</td>\n",
       "      <td>191.66</td>\n",
       "      <td>193.18</td>\n",
       "      <td>190.37</td>\n",
       "      <td>191.24</td>\n",
       "      <td>38581950</td>\n",
       "      <td>0.25</td>\n",
       "      <td>6.479714e-09</td>\n",
       "    </tr>\n",
       "    <tr>\n",
       "      <th>3</th>\n",
       "      <td>2019-01-09</td>\n",
       "      <td>192.71</td>\n",
       "      <td>197.00</td>\n",
       "      <td>192.10</td>\n",
       "      <td>197.00</td>\n",
       "      <td>70633230</td>\n",
       "      <td>5.76</td>\n",
       "      <td>8.154802e-08</td>\n",
       "    </tr>\n",
       "    <tr>\n",
       "      <th>4</th>\n",
       "      <td>2019-01-10</td>\n",
       "      <td>196.30</td>\n",
       "      <td>197.64</td>\n",
       "      <td>195.03</td>\n",
       "      <td>196.75</td>\n",
       "      <td>56211650</td>\n",
       "      <td>-0.25</td>\n",
       "      <td>4.447477e-09</td>\n",
       "    </tr>\n",
       "    <tr>\n",
       "      <th>5</th>\n",
       "      <td>2019-01-11</td>\n",
       "      <td>197.13</td>\n",
       "      <td>198.96</td>\n",
       "      <td>195.61</td>\n",
       "      <td>196.80</td>\n",
       "      <td>63643670</td>\n",
       "      <td>0.05</td>\n",
       "      <td>7.856241e-10</td>\n",
       "    </tr>\n",
       "    <tr>\n",
       "      <th>6</th>\n",
       "      <td>2019-01-14</td>\n",
       "      <td>195.68</td>\n",
       "      <td>197.44</td>\n",
       "      <td>194.00</td>\n",
       "      <td>196.80</td>\n",
       "      <td>44643520</td>\n",
       "      <td>0.00</td>\n",
       "      <td>0.000000e+00</td>\n",
       "    </tr>\n",
       "    <tr>\n",
       "      <th>7</th>\n",
       "      <td>2019-01-15</td>\n",
       "      <td>197.39</td>\n",
       "      <td>198.84</td>\n",
       "      <td>195.91</td>\n",
       "      <td>198.00</td>\n",
       "      <td>52994790</td>\n",
       "      <td>1.20</td>\n",
       "      <td>2.264374e-08</td>\n",
       "    </tr>\n",
       "    <tr>\n",
       "      <th>8</th>\n",
       "      <td>2019-01-16</td>\n",
       "      <td>198.64</td>\n",
       "      <td>201.30</td>\n",
       "      <td>198.02</td>\n",
       "      <td>201.26</td>\n",
       "      <td>62392390</td>\n",
       "      <td>3.26</td>\n",
       "      <td>5.224996e-08</td>\n",
       "    </tr>\n",
       "    <tr>\n",
       "      <th>9</th>\n",
       "      <td>2019-01-17</td>\n",
       "      <td>201.67</td>\n",
       "      <td>203.55</td>\n",
       "      <td>201.05</td>\n",
       "      <td>203.32</td>\n",
       "      <td>59827610</td>\n",
       "      <td>2.06</td>\n",
       "      <td>3.443226e-08</td>\n",
       "    </tr>\n",
       "  </tbody>\n",
       "</table>\n",
       "</div>"
      ],
      "text/plain": [
       "      <DATE>  <OPEN>  <HIGH>   <LOW>  <CLOSE>     <VOL>  delta Pt  \\\n",
       "0 2019-01-03  186.37  191.50  186.00   186.99  40105780       NaN   \n",
       "1 2019-01-04  187.99  190.99  187.77   190.99  32537090      4.00   \n",
       "2 2019-01-08  191.66  193.18  190.37   191.24  38581950      0.25   \n",
       "3 2019-01-09  192.71  197.00  192.10   197.00  70633230      5.76   \n",
       "4 2019-01-10  196.30  197.64  195.03   196.75  56211650     -0.25   \n",
       "5 2019-01-11  197.13  198.96  195.61   196.80  63643670      0.05   \n",
       "6 2019-01-14  195.68  197.44  194.00   196.80  44643520      0.00   \n",
       "7 2019-01-15  197.39  198.84  195.91   198.00  52994790      1.20   \n",
       "8 2019-01-16  198.64  201.30  198.02   201.26  62392390      3.26   \n",
       "9 2019-01-17  201.67  203.55  201.05   203.32  59827610      2.06   \n",
       "\n",
       "         lambda  \n",
       "0           NaN  \n",
       "1  1.229366e-07  \n",
       "2  6.479714e-09  \n",
       "3  8.154802e-08  \n",
       "4  4.447477e-09  \n",
       "5  7.856241e-10  \n",
       "6  0.000000e+00  \n",
       "7  2.264374e-08  \n",
       "8  5.224996e-08  \n",
       "9  3.443226e-08  "
      ]
     },
     "execution_count": 51,
     "metadata": {},
     "output_type": "execute_result"
    }
   ],
   "source": [
    "data['delta Pt'] = data['<CLOSE>'].diff()\n",
    "data['lambda'] = abs(data['delta Pt'])/data['<VOL>']\n",
    "data['<DATE>'] = data['<DATE>'].apply(lambda x: pd.to_datetime(str(x), format='%Y%m%d'))\n",
    "\n",
    "data.head(10)"
   ]
  },
  {
   "cell_type": "code",
   "execution_count": 52,
   "metadata": {},
   "outputs": [
    {
     "data": {
      "text/plain": [
       "4.691234344719389e-08"
      ]
     },
     "execution_count": 52,
     "metadata": {},
     "output_type": "execute_result"
    }
   ],
   "source": [
    "data['lambda'].mean()"
   ]
  },
  {
   "cell_type": "code",
   "execution_count": 53,
   "metadata": {},
   "outputs": [
    {
     "data": {
      "image/png": "[encoded data removed]",
      "text/plain": [
       "<Figure size 1080x504 with 1 Axes>"
      ]
     },
     "metadata": {
      "needs_background": "light"
     },
     "output_type": "display_data"
    }
   ],
   "source": [
    "fig = plt.figure(figsize = (15, 7))\n",
    "fig = plt.hist(data['lambda'], edgecolor = 'black', bins = 50)\n",
    "\n",
    "plt.show()"
   ]
  },
  {
   "cell_type": "code",
   "execution_count": 54,
   "metadata": {},
   "outputs": [
    {
     "data": {
      "image/png": "[encoded data removed]",
      "text/plain": [
       "<Figure size 1080x504 with 1 Axes>"
      ]
     },
     "metadata": {
      "needs_background": "light"
     },
     "output_type": "display_data"
    }
   ],
   "source": [
    "fig = plt.figure(figsize = (15, 7))\n",
    "fig = plt.plot(data['<DATE>'], data['lambda'])\n",
    "\n",
    "plt.show()"
   ]
  },
  {
   "cell_type": "code",
   "execution_count": null,
   "metadata": {},
   "outputs": [],
   "source": []
  }
 ],
 "metadata": {
  "kernelspec": {
   "display_name": "Python 3",
   "language": "python",
   "name": "python3"
  },
  "language_info": {
   "codemirror_mode": {
    "name": "ipython",
    "version": 3
   },
   "file_extension": ".py",
   "mimetype": "text/x-python",
   "name": "python",
   "nbconvert_exporter": "python",
   "pygments_lexer": "ipython3",
   "version": "3.7.7"
  }
 },
 "nbformat": 4,
 "nbformat_minor": 2
}
